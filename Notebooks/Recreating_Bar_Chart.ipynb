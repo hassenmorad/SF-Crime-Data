{
 "cells": [
  {
   "cell_type": "markdown",
   "metadata": {},
   "source": [
    "### Recreating Hoodline Bar Chart\n",
    "Same code included in sf_crime_chart.py"
   ]
  },
  {
   "cell_type": "code",
   "execution_count": 1,
   "metadata": {},
   "outputs": [],
   "source": [
    "import pandas as pd\n",
    "import numpy as np\n",
    "import geopandas as gpd"
   ]
  },
  {
   "cell_type": "code",
   "execution_count": 2,
   "metadata": {},
   "outputs": [],
   "source": [
    "sf_crime = gpd.read_file('sf_crime_data.shp')"
   ]
  },
  {
   "cell_type": "code",
   "execution_count": 3,
   "metadata": {},
   "outputs": [
    {
     "data": {
      "text/html": [
       "<div>\n",
       "<style scoped>\n",
       "    .dataframe tbody tr th:only-of-type {\n",
       "        vertical-align: middle;\n",
       "    }\n",
       "\n",
       "    .dataframe tbody tr th {\n",
       "        vertical-align: top;\n",
       "    }\n",
       "\n",
       "    .dataframe thead th {\n",
       "        text-align: right;\n",
       "    }\n",
       "</style>\n",
       "<table border=\"1\" class=\"dataframe\">\n",
       "  <thead>\n",
       "    <tr style=\"text-align: right;\">\n",
       "      <th></th>\n",
       "      <th>city_key</th>\n",
       "      <th>incident_c</th>\n",
       "      <th>date</th>\n",
       "      <th>offense</th>\n",
       "      <th>latitude</th>\n",
       "      <th>longitude</th>\n",
       "      <th>geometry</th>\n",
       "    </tr>\n",
       "  </thead>\n",
       "  <tbody>\n",
       "    <tr>\n",
       "      <td>0</td>\n",
       "      <td>SFO</td>\n",
       "      <td>73732706372</td>\n",
       "      <td>2018-11-11</td>\n",
       "      <td>Larceny/Theft</td>\n",
       "      <td>37.779992</td>\n",
       "      <td>-122.413487</td>\n",
       "      <td>POINT (37.780 -122.413)</td>\n",
       "    </tr>\n",
       "    <tr>\n",
       "      <td>1</td>\n",
       "      <td>SFO</td>\n",
       "      <td>76224509035</td>\n",
       "      <td>2018-11-11</td>\n",
       "      <td>Bad Checks</td>\n",
       "      <td>37.801481</td>\n",
       "      <td>-122.416133</td>\n",
       "      <td>POINT (37.801 -122.416)</td>\n",
       "    </tr>\n",
       "  </tbody>\n",
       "</table>\n",
       "</div>"
      ],
      "text/plain": [
       "  city_key   incident_c        date        offense   latitude   longitude  \\\n",
       "0      SFO  73732706372  2018-11-11  Larceny/Theft  37.779992 -122.413487   \n",
       "1      SFO  76224509035  2018-11-11     Bad Checks  37.801481 -122.416133   \n",
       "\n",
       "                  geometry  \n",
       "0  POINT (37.780 -122.413)  \n",
       "1  POINT (37.801 -122.416)  "
      ]
     },
     "execution_count": 3,
     "metadata": {},
     "output_type": "execute_result"
    }
   ],
   "source": [
    "sf_crime.head(2)"
   ]
  },
  {
   "cell_type": "code",
   "execution_count": 4,
   "metadata": {},
   "outputs": [
    {
     "data": {
      "text/html": [
       "<div>\n",
       "<style scoped>\n",
       "    .dataframe tbody tr th:only-of-type {\n",
       "        vertical-align: middle;\n",
       "    }\n",
       "\n",
       "    .dataframe tbody tr th {\n",
       "        vertical-align: top;\n",
       "    }\n",
       "\n",
       "    .dataframe thead th {\n",
       "        text-align: right;\n",
       "    }\n",
       "</style>\n",
       "<table border=\"1\" class=\"dataframe\">\n",
       "  <thead>\n",
       "    <tr style=\"text-align: right;\">\n",
       "      <th></th>\n",
       "      <th>city_key</th>\n",
       "      <th>incident_c</th>\n",
       "      <th>date</th>\n",
       "      <th>offense</th>\n",
       "      <th>latitude</th>\n",
       "      <th>longitude</th>\n",
       "      <th>geometry</th>\n",
       "    </tr>\n",
       "  </thead>\n",
       "  <tbody>\n",
       "    <tr>\n",
       "      <td>2462</td>\n",
       "      <td>SFO</td>\n",
       "      <td>73480006244</td>\n",
       "      <td>2018-11-05</td>\n",
       "      <td>Larceny/Theft</td>\n",
       "      <td>37.774599</td>\n",
       "      <td>-122.425888</td>\n",
       "      <td>POINT (37.775 -122.426)</td>\n",
       "    </tr>\n",
       "    <tr>\n",
       "      <td>2463</td>\n",
       "      <td>SFO</td>\n",
       "      <td>76928409020</td>\n",
       "      <td>2018-11-05</td>\n",
       "      <td>Counterfeiting/Forgery</td>\n",
       "      <td>37.776661</td>\n",
       "      <td>-122.412158</td>\n",
       "      <td>POINT (37.777 -122.412)</td>\n",
       "    </tr>\n",
       "  </tbody>\n",
       "</table>\n",
       "</div>"
      ],
      "text/plain": [
       "     city_key   incident_c        date                 offense   latitude  \\\n",
       "2462      SFO  73480006244  2018-11-05           Larceny/Theft  37.774599   \n",
       "2463      SFO  76928409020  2018-11-05  Counterfeiting/Forgery  37.776661   \n",
       "\n",
       "       longitude                 geometry  \n",
       "2462 -122.425888  POINT (37.775 -122.426)  \n",
       "2463 -122.412158  POINT (37.777 -122.412)  "
      ]
     },
     "execution_count": 4,
     "metadata": {},
     "output_type": "execute_result"
    }
   ],
   "source": [
    "sf_crime.tail(2)"
   ]
  },
  {
   "cell_type": "code",
   "execution_count": 5,
   "metadata": {},
   "outputs": [
    {
     "data": {
      "text/plain": [
       "2464"
      ]
     },
     "execution_count": 5,
     "metadata": {},
     "output_type": "execute_result"
    }
   ],
   "source": [
    "len(sf_crime)"
   ]
  },
  {
   "cell_type": "code",
   "execution_count": 6,
   "metadata": {},
   "outputs": [
    {
     "data": {
      "text/plain": [
       "city_key        object\n",
       "incident_c      object\n",
       "date            object\n",
       "offense         object\n",
       "latitude       float64\n",
       "longitude      float64\n",
       "geometry      geometry\n",
       "dtype: object"
      ]
     },
     "execution_count": 6,
     "metadata": {},
     "output_type": "execute_result"
    }
   ],
   "source": [
    "sf_crime.dtypes"
   ]
  },
  {
   "cell_type": "code",
   "execution_count": 7,
   "metadata": {},
   "outputs": [],
   "source": [
    "crimes = sf_crime.offense.value_counts().index[:13]\n",
    "crime_counts = sf_crime.offense.value_counts().values[:13]"
   ]
  },
  {
   "cell_type": "code",
   "execution_count": 8,
   "metadata": {},
   "outputs": [],
   "source": [
    "crime_counts_df = pd.DataFrame({'Crime':crimes, 'Count':crime_counts})"
   ]
  },
  {
   "cell_type": "code",
   "execution_count": 9,
   "metadata": {},
   "outputs": [
    {
     "data": {
      "text/html": [
       "<div>\n",
       "<style scoped>\n",
       "    .dataframe tbody tr th:only-of-type {\n",
       "        vertical-align: middle;\n",
       "    }\n",
       "\n",
       "    .dataframe tbody tr th {\n",
       "        vertical-align: top;\n",
       "    }\n",
       "\n",
       "    .dataframe thead th {\n",
       "        text-align: right;\n",
       "    }\n",
       "</style>\n",
       "<table border=\"1\" class=\"dataframe\">\n",
       "  <thead>\n",
       "    <tr style=\"text-align: right;\">\n",
       "      <th></th>\n",
       "      <th>Crime</th>\n",
       "      <th>Count</th>\n",
       "    </tr>\n",
       "  </thead>\n",
       "  <tbody>\n",
       "    <tr>\n",
       "      <td>1</td>\n",
       "      <td>Larceny/Theft</td>\n",
       "      <td>739</td>\n",
       "    </tr>\n",
       "    <tr>\n",
       "      <td>2</td>\n",
       "      <td>Assault</td>\n",
       "      <td>177</td>\n",
       "    </tr>\n",
       "    <tr>\n",
       "      <td>3</td>\n",
       "      <td>Burglary/Breaking &amp; Entering</td>\n",
       "      <td>133</td>\n",
       "    </tr>\n",
       "    <tr>\n",
       "      <td>4</td>\n",
       "      <td>Destruction of Property/Vandalism</td>\n",
       "      <td>128</td>\n",
       "    </tr>\n",
       "    <tr>\n",
       "      <td>5</td>\n",
       "      <td>Drugs</td>\n",
       "      <td>107</td>\n",
       "    </tr>\n",
       "    <tr>\n",
       "      <td>6</td>\n",
       "      <td>Motor Vehicle Theft</td>\n",
       "      <td>95</td>\n",
       "    </tr>\n",
       "    <tr>\n",
       "      <td>7</td>\n",
       "      <td>Fraud</td>\n",
       "      <td>71</td>\n",
       "    </tr>\n",
       "    <tr>\n",
       "      <td>8</td>\n",
       "      <td>Sex Offenses</td>\n",
       "      <td>57</td>\n",
       "    </tr>\n",
       "    <tr>\n",
       "      <td>9</td>\n",
       "      <td>Suspicious Activity</td>\n",
       "      <td>45</td>\n",
       "    </tr>\n",
       "    <tr>\n",
       "      <td>10</td>\n",
       "      <td>Trespassing</td>\n",
       "      <td>23</td>\n",
       "    </tr>\n",
       "    <tr>\n",
       "      <td>11</td>\n",
       "      <td>Family Offenses</td>\n",
       "      <td>22</td>\n",
       "    </tr>\n",
       "    <tr>\n",
       "      <td>12</td>\n",
       "      <td>Weapons Violations</td>\n",
       "      <td>21</td>\n",
       "    </tr>\n",
       "  </tbody>\n",
       "</table>\n",
       "</div>"
      ],
      "text/plain": [
       "                                Crime  Count\n",
       "1                       Larceny/Theft    739\n",
       "2                             Assault    177\n",
       "3        Burglary/Breaking & Entering    133\n",
       "4   Destruction of Property/Vandalism    128\n",
       "5                               Drugs    107\n",
       "6                 Motor Vehicle Theft     95\n",
       "7                               Fraud     71\n",
       "8                        Sex Offenses     57\n",
       "9                 Suspicious Activity     45\n",
       "10                        Trespassing     23\n",
       "11                    Family Offenses     22\n",
       "12                 Weapons Violations     21"
      ]
     },
     "execution_count": 9,
     "metadata": {},
     "output_type": "execute_result"
    }
   ],
   "source": [
    "crime_counts_df = crime_counts_df[crime_counts_df.Crime != 'Other']  # Removing 'Other' from chart\n",
    "crime_counts_df"
   ]
  },
  {
   "cell_type": "code",
   "execution_count": 10,
   "metadata": {},
   "outputs": [],
   "source": [
    "# Created chart via datawrapper (https://www.datawrapper.de/_/E0jaK/)\n",
    "crime_counts_df.to_csv('sf_crime_counts_df.csv', index=False)"
   ]
  },
  {
   "cell_type": "markdown",
   "metadata": {},
   "source": [
    "---"
   ]
  },
  {
   "cell_type": "markdown",
   "metadata": {},
   "source": [
    "Altair Chart:"
   ]
  },
  {
   "cell_type": "code",
   "execution_count": 11,
   "metadata": {},
   "outputs": [],
   "source": [
    "%run chart_theme.py"
   ]
  },
  {
   "cell_type": "code",
   "execution_count": 12,
   "metadata": {},
   "outputs": [
    {
     "data": {
      "application/vnd.vegalite.v3+json": {
       "$schema": "https://vega.github.io/schema/vega-lite/v3.4.0.json",
       "background": "white",
       "config": {
        "axisY": {
         "labelFont": "Lato",
         "labelFontSize": 13,
         "labelLimit": 200,
         "ticks": false,
         "titleAlign": "right",
         "titleAngle": 0,
         "titleFont": "Lato",
         "titleFontSize": 13,
         "titleX": 35,
         "titleY": -10
        },
        "title": {
         "anchor": "start",
         "fontSize": 20
        },
        "view": {
         "strokeOpacity": 0
        }
       },
       "data": {
        "name": "data-7a388cda91bb37d8ef9cf331ff5bc7fc"
       },
       "datasets": {
        "data-7a388cda91bb37d8ef9cf331ff5bc7fc": [
         {
          "Count": 739,
          "Crime": "Larceny/Theft"
         },
         {
          "Count": 177,
          "Crime": "Assault"
         },
         {
          "Count": 133,
          "Crime": "Burglary/Breaking & Entering"
         },
         {
          "Count": 128,
          "Crime": "Destruction of Property/Vandalism"
         },
         {
          "Count": 107,
          "Crime": "Drugs"
         },
         {
          "Count": 95,
          "Crime": "Motor Vehicle Theft"
         },
         {
          "Count": 71,
          "Crime": "Fraud"
         },
         {
          "Count": 57,
          "Crime": "Sex Offenses"
         },
         {
          "Count": 45,
          "Crime": "Suspicious Activity"
         },
         {
          "Count": 23,
          "Crime": "Trespassing"
         },
         {
          "Count": 22,
          "Crime": "Family Offenses"
         },
         {
          "Count": 21,
          "Crime": "Weapons Violations"
         }
        ]
       },
       "height": 300,
       "layer": [
        {
         "encoding": {
          "color": {
           "condition": {
            "test": "(datum.Count === 739)",
            "value": "#e17700"
           },
           "value": "#00648e"
          },
          "x": {
           "axis": null,
           "field": "Count",
           "type": "quantitative"
          },
          "y": {
           "field": "Crime",
           "sort": [
            "Larceny/Theft",
            "Assault",
            "Burglary/Breaking & Entering",
            "Destruction of Property/Vandalism",
            "Drugs",
            "Motor Vehicle Theft",
            "Fraud",
            "Sex Offenses",
            "Suspicious Activity",
            "Trespassing",
            "Family Offenses",
            "Weapons Violations"
           ],
           "title": "Top crimes recorded by San Francisco PD",
           "type": "nominal"
          }
         },
         "mark": {
          "size": 22,
          "type": "bar"
         },
         "title": "San Francisco Crime (11/05 - 11/11)"
        },
        {
         "encoding": {
          "text": {
           "field": "Count",
           "type": "quantitative"
          },
          "x": {
           "axis": null,
           "field": "Count",
           "type": "quantitative"
          },
          "y": {
           "field": "Crime",
           "sort": [
            "Larceny/Theft",
            "Assault",
            "Burglary/Breaking & Entering",
            "Destruction of Property/Vandalism",
            "Drugs",
            "Motor Vehicle Theft",
            "Fraud",
            "Sex Offenses",
            "Suspicious Activity",
            "Trespassing",
            "Family Offenses",
            "Weapons Violations"
           ],
           "title": "Top crimes recorded by San Francisco PD",
           "type": "nominal"
          }
         },
         "mark": {
          "align": "right",
          "color": "white",
          "dx": -3,
          "size": 12,
          "type": "text"
         },
         "title": "San Francisco Crime (11/05 - 11/11)"
        }
       ],
       "width": 700
      },
      "image/png": "[encoded data removed]",
      "text/plain": [
       "<VegaLite 3 object>\n",
       "\n",
       "If you see this message, it means the renderer has not been properly enabled\n",
       "for the frontend that you are using. For more information, see\n",
       "https://altair-viz.github.io/user_guide/troubleshooting.html\n"
      ]
     },
     "execution_count": 12,
     "metadata": {},
     "output_type": "execute_result"
    }
   ],
   "source": [
    "max_val = crime_counts_df.Count.max()\n",
    "\n",
    "base = alt.Chart(crime_counts_df, title='San Francisco Crime (11/05 - 11/11)').encode(\n",
    "x=alt.X('Count', axis=None),\n",
    "y=alt.Y('Crime', title='Top crimes recorded by San Francisco PD', sort=list(crime_counts_df.Crime.values)))\n",
    "\n",
    "bars = base.mark_bar(size=22).encode(color=alt.condition(\n",
    "    alt.datum.Count == max_val,\n",
    "    alt.value('#e17700'),\n",
    "    alt.value('#00648e')))\n",
    "\n",
    "text = base.mark_text(\n",
    "    color='white',\n",
    "    align='right',\n",
    "    size=12,\n",
    "    dx=-3\n",
    ").encode(\n",
    "    text='Count')\n",
    "\n",
    "chart = bars + text\n",
    "chart"
   ]
  },
  {
   "cell_type": "code",
   "execution_count": 13,
   "metadata": {},
   "outputs": [],
   "source": [
    "chart.save('sf_crime.png', scale_factor=3)"
   ]
  }
 ],
 "metadata": {
  "kernelspec": {
   "display_name": "Python 3",
   "language": "python",
   "name": "python3"
  },
  "language_info": {
   "codemirror_mode": {
    "name": "ipython",
    "version": 3
   },
   "file_extension": ".py",
   "mimetype": "text/x-python",
   "name": "python",
   "nbconvert_exporter": "python",
   "pygments_lexer": "ipython3",
   "version": "3.6.7"
  }
 },
 "nbformat": 4,
 "nbformat_minor": 4
}
